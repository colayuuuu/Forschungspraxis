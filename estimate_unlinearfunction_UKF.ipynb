{
 "cells": [
  {
   "cell_type": "code",
   "execution_count": 1,
   "metadata": {},
   "outputs": [],
   "source": [
    "from IPython.display import Latex\n",
    "import numpy as np\n",
    "import scipy\n",
    "from numpy.random import randn\n",
    "import numpy as np\n",
    "from scipy.linalg import sqrtm\n",
    "import math  \n",
    "import matplotlib.pyplot as plt"
   ]
  },
  {
   "cell_type": "code",
   "execution_count": 2,
   "metadata": {},
   "outputs": [],
   "source": [
    "def parameter_sigmapoints(n,alpha,beta,kappa):\n",
    "    '''\n",
    "    n : dimension of state vector\n",
    "    alpha,beta,kappa : manually set up patamaters\n",
    "    wm : weight matrix for calculating mean\n",
    "    wc : weight matrix for calculating variance\n",
    "    U : a parameter for computation convenience \n",
    "    '''\n",
    "    lamb=alpha**2*(n+kappa)-n\n",
    "    wm=[lamb/(n+lamb)]\n",
    "    wc=[(lamb/(lamb+n))+(1-alpha**2+beta)]\n",
    "    for i in range(2*n):\n",
    "        wm.append(1/(2*(n+lamb)))\n",
    "        wc.append(1/(2*(n+lamb)))\n",
    "    U=math.sqrt(n+lamb)\n",
    "    U=np.array([U])\n",
    "    wm=np.array([wm])\n",
    "    wc=np.array([wc])\n",
    "    return wm,wc,U"
   ]
  },
  {
   "cell_type": "code",
   "execution_count": 3,
   "metadata": {},
   "outputs": [],
   "source": [
    "#generazation of sigma ponits\n",
    "def generate_sigmapoints(xEst, PEst, U):\n",
    "    '''\n",
    "    xEst:mean of initial data\n",
    "    PEst:variance of initial data \n",
    "    U:U=sqrt(n+lamb)\n",
    "    '''\n",
    "    sigma = xEst\n",
    "    Psqrt = scipy.linalg.sqrtm(PEst)\n",
    "    \n",
    "    #Psqrt=scipy.linalg.cholesky(PEst)\n",
    "    n = len(xEst[:, 0])\n",
    "    \n",
    "    for i in range(n):\n",
    "        sigma = np.hstack((sigma, xEst + U * Psqrt[:, i:i + 1]))\n",
    "    for i in range(n):\n",
    "        sigma = np.hstack((sigma, xEst - U * Psqrt[:, i:i + 1]))\n",
    "    return sigma\n",
    "    \n",
    "\n",
    "def transform_sigma_motion(sigma):\n",
    "    \"\"\"\n",
    "        Sigma Points prediction with motion model \n",
    "    \"\"\"\n",
    "    for i in range(sigma.shape[1]):\n",
    "        sigma[:, i:i + 1] = f(sigma[:, i:i + 1],dt)\n",
    "\n",
    "    return sigma\n",
    "\n",
    "def transform_sigma_observation(sigma):\n",
    "    \"\"\"\n",
    "        Sigma Points prediction with observation model\n",
    "    \"\"\"\n",
    "    sigma_obs=np.zeros((2,sigma.shape[1]))\n",
    "    for i in range(sigma.shape[1]): \n",
    "        sigma_obs[:,i] = h_radar(sigma[:, i])\n",
    "    return sigma_obs\n",
    "\n",
    "def covariance_prior(x, sigma, wc, Pi):\n",
    "    ''' \n",
    "    \n",
    "    '''\n",
    "    nSigma = sigma.shape[1]\n",
    "   # print('nSigma',nSigma)\n",
    "    d = sigma - x[0:sigma.shape[0]]\n",
    "   # print('d.shape ist',d.shape)\n",
    "    P = Pi\n",
    "    #print('P',P)\n",
    "    for i in range(nSigma):\n",
    "        P = P + wc[0, i] * d[:, i:i + 1] @ d[:, i:i + 1].T\n",
    "        #print(P)\n",
    "    return P\n",
    "\n",
    "\n",
    "def calc_pxz(sigma, x, z_sigma, zb, wc):\n",
    "    '''\n",
    "    \n",
    "    '''\n",
    "    nSigma = sigma.shape[1]\n",
    "    dx = sigma - x\n",
    "    dz = z_sigma - zb[0:2]\n",
    "    P = np.zeros((dx.shape[0], dz.shape[0]))\n",
    "\n",
    "    for i in range(nSigma):\n",
    "        P = P + wc[0, i] * dx[:, i:i + 1] @ dz[:, i:i + 1].T\n",
    "    return P\n"
   ]
  },
  {
   "cell_type": "code",
   "execution_count": 4,
   "metadata": {},
   "outputs": [],
   "source": [
    "def ukf_estimation(xEst, PEst, z, wm, wc, gamma):\n",
    "    '''\n",
    "    z: observation with noise \n",
    "    wm, wc, gamma: constant parameters\n",
    "    '''\n",
    "    #  Predict process\n",
    "    # generate sigma points\n",
    "    sigma = generate_sigmapoints(xEst, PEst, gamma)\n",
    "    sigma= transform_sigma_motion(sigma)\n",
    "    #prediction of mean of input \n",
    "    xPred = (wm @ sigma.T).T\n",
    "    # estimate of covariance \n",
    "    PPred = covariance_prior(xPred, sigma, wc, Q)\n",
    "    \n",
    "    #  Update process\n",
    "    \n",
    "    #  generate new sigma points after prediction \n",
    "    sigma = generate_sigmapoints(xPred, PPred, gamma)\n",
    "    # transform sigma points with observation model    \n",
    "    z_sigma = transform_sigma_observation(sigma)\n",
    "    # mean\n",
    "    zPred = (wm @ z_sigma.T).T\n",
    "    #  Pz_matrix  \n",
    "    st = covariance_prior(zPred, z_sigma, wc, R)\n",
    "    Pxz = calc_pxz(sigma, xPred, z_sigma, zPred, wc)\n",
    "    # kalman gain\n",
    "    K = Pxz @ np.linalg.inv(st)\n",
    "    y = z - zPred\n",
    "    # update the estimate value：  \n",
    "    xEst = xPred + K @ y\n",
    "    # update the covariance：\n",
    "    PEst = PPred - K @ st @ K.T\n",
    "    return xEst, PEst"
   ]
  },
  {
   "cell_type": "markdown",
   "metadata": {},
   "source": [
    "First we design the state transition function.\n",
    "\n",
    "We will assume that the aircraft is flying at a constant altitude. In this situation we design three state vectors as follows.\n",
    "\n",
    "$$\\mathbf x = \\begin{bmatrix}\\mathtt{distance} \\\\\\mathtt{velocity}\\\\ \\mathtt{altitude}\\end{bmatrix}=    \\begin{bmatrix}x \\\\ \\dot x\\\\ y\\end{bmatrix}$$\n",
    "\n",
    "Next we design the measurement function. Using radar we can get the range and elevation angle information about the tracking target. So we convert the position and velocity of the targey into the elevation angle and range from the radar station, which is the nonlinear function. \n",
    "\n",
    "Range is computed using the equation following.\n",
    "\n",
    "$$\\text{range} = \\sqrt{(x_\\text{ac} - x_\\text{radar})^2 + (y_\\text{ac} - y_\\mathtt{radar})^2}$$\n",
    "\n",
    "The elevation angle $\\epsilon$ is the arctangent of $y/x$:\n",
    "\n",
    "$$\\epsilon = \\tan^{-1}{\\frac{y_\\mathtt{ac} - y_\\text{radar}}{x_\\text{ac} - x_\\text{radar}}}$$\n"
   ]
  },
  {
   "attachments": {
    "image.png": {
     "image/png": "[encoded data removed]"
    }
   },
   "cell_type": "markdown",
   "metadata": {},
   "source": [
    "![image.png](attachment:image.png)\n"
   ]
  },
  {
   "cell_type": "code",
   "execution_count": 29,
   "metadata": {},
   "outputs": [
    {
     "name": "stdout",
     "output_type": "stream",
     "text": [
      "Q.size (3, 3)\n",
      "Uist [0.17320508]\n",
      "wm is [[-99.          16.66666667  16.66666667  16.66666667  16.66666667\n",
      "   16.66666667  16.66666667]]\n",
      "wc [[-96.01        16.66666667  16.66666667  16.66666667  16.66666667\n",
      "   16.66666667  16.66666667]]\n"
     ]
    },
    {
     "name": "stderr",
     "output_type": "stream",
     "text": [
      "<ipython-input-29-439f76da1644>:14: ComplexWarning: Casting complex values to real discards the imaginary part\n",
      "  slant_range = math.sqrt(dx**2 + dy**2)\n",
      "<ipython-input-29-439f76da1644>:15: ComplexWarning: Casting complex values to real discards the imaginary part\n",
      "  elevation_angle = math.atan2(dy, dx)\n"
     ]
    },
    {
     "data": {
      "text/plain": [
       "Text(0, 0.5, 'altitude(m)')"
      ]
     },
     "execution_count": 29,
     "metadata": {},
     "output_type": "execute_result"
    },
    {
     "data": {
      "image/png": "[encoded data removed]",
      "text/plain": [
       "<Figure size 432x288 with 1 Axes>"
      ]
     },
     "metadata": {
      "needs_background": "light"
     },
     "output_type": "display_data"
    },
    {
     "data": {
      "image/png": "[encoded data removed]",
      "text/plain": [
       "<Figure size 432x288 with 1 Axes>"
      ]
     },
     "metadata": {
      "needs_background": "light"
     },
     "output_type": "display_data"
    },
    {
     "data": {
      "image/png": "[encoded data removed]",
      "text/plain": [
       "<Figure size 432x288 with 1 Axes>"
      ]
     },
     "metadata": {
      "needs_background": "light"
     },
     "output_type": "display_data"
    }
   ],
   "source": [
    "def f(x, dt):\n",
    "    \"\"\" state transition function for a constant velocity \n",
    "    aircraft with state vector [x, velocity, altitude]'\"\"\"\n",
    "    \n",
    "    F = np.array([[1, dt, 0],\n",
    "                  [0,  1, 0],\n",
    "                  [0,  0, 1]], dtype=float)\n",
    "    return F @ x\n",
    "\n",
    "import math\n",
    "def  h_radar(x):\n",
    "    dx = x[0] - h_radar.radar_pos[0]\n",
    "    dy = x[2] - h_radar.radar_pos[1]\n",
    "    slant_range = math.sqrt(dx**2 + dy**2)\n",
    "    elevation_angle = math.atan2(dy, dx)\n",
    "    return [slant_range, elevation_angle]\n",
    "\n",
    "h_radar.radar_pos = (0, 0)\n",
    "\n",
    "from numpy.linalg import norm\n",
    "from math import atan2\n",
    "\n",
    "class RadarStation:\n",
    "    \n",
    "    def __init__(self, pos, range_std, elev_angle_std):   \n",
    "        self.pos = np.asarray(pos)       \n",
    "        self.range_std = range_std\n",
    "        self.elev_angle_std = elev_angle_std\n",
    "\n",
    "    \n",
    "    def reading_of(self, ac_pos):\n",
    "        \"\"\" Returns (range, elevation angle) to aircraft. \n",
    "        Elevation angle is in radians.\n",
    "        \"\"\"\n",
    "        \n",
    "        diff = np.subtract(ac_pos, self.pos) # aircraft position - radar position  2-dimensional position vector [x,y]\n",
    "        rng = norm(diff)  #range    slant distance \n",
    "        brg = atan2(diff[1], diff[0])  # elevation angle  \n",
    "        return rng, brg \n",
    "\n",
    "\n",
    "    def noisy_reading(self, ac_pos):\n",
    "        \"\"\" Compute range and elevation angle to aircraft with \n",
    "        simulated noise\"\"\"\n",
    "        \n",
    "        rng, brg = self.reading_of(ac_pos)       \n",
    "        rng += randn() * self.range_std   #add measurement noise \n",
    "        brg += randn() * self.elev_angle_std  \n",
    "        return rng, brg       \n",
    "\n",
    "class ACSim:   \n",
    "    def __init__(self, pos, vel, vel_std):  \n",
    "        self.pos = np.asarray(pos, dtype=float) \n",
    "        self.vel = np.asarray(vel, dtype=float) \n",
    "        self.vel_std = vel_std        \n",
    "        \n",
    "    def update(self, dt):\n",
    "        \"\"\" Compute and returns next position. Incorporates \n",
    "        random variation in velocity. \"\"\"\n",
    "        \n",
    "        dx = self.vel*dt + (randn() * self.vel_std) * dt      \n",
    "        self.pos += dx    \n",
    "        \n",
    "        return self.pos\n",
    "    \n",
    "import math\n",
    "\n",
    "\n",
    "dt = 3. # 12 seconds between readings \n",
    "range_std = 5 # meters \n",
    "elevation_angle_std = math.radians(0.5)\n",
    "ac_pos = (0., 1000.) #positon of aircraft\n",
    "ac_vel = (100., 0.) # velocity \n",
    "radar_pos = (0., 0.)\n",
    "h_radar.radar_pos = radar_pos\n",
    "\n",
    "#points = MerweScaledSigmaPoints(n=3, alpha=.1, beta=2., kappa=0.)\n",
    "#kf = UKF(3, 2, dt, fx=f_radar, hx=h_radar, points=points)\n",
    "Q=np.zeros((3,3))\n",
    "Q[0:2, 0:2] =np.random.normal(0,0.1, size=(2,2)) \n",
    "Q[2,2] = 0.1 \n",
    "\n",
    "print('Q.size',Q.shape)\n",
    "R = np.diag([range_std**2, elevation_angle_std**2])\n",
    "# R is  mesurement noise matrix (sensor measurement)\n",
    "\n",
    "\n",
    "xEst = np.array([0., 90., 1100.]).reshape(3,1)  # initial x\n",
    "\n",
    "#print('initial.xEst.size',xEst.shape)\n",
    "\n",
    "PEst = np.diag([300**2, 30**2, 150**2])  \n",
    "\n",
    "\n",
    "np.random.seed(200)\n",
    "pos = (0, 0)\n",
    "radar = RadarStation(pos, range_std, elevation_angle_std)  \n",
    "\n",
    "n=3\n",
    "alpha=.1\n",
    "beta=2.\n",
    "kappa=0 \n",
    "wm, wc, U = parameter_sigmapoints(n,alpha,beta,kappa)\n",
    "print('Uist',U)\n",
    "print('wm is',wm)\n",
    "print('wc',wc)\n",
    "ac = ACSim(ac_pos, (100, 0), 0.02)  \n",
    "time = np.arange(0, 360+dt, dt)\n",
    "hxEst = xEst\n",
    "#print('initial hxEst',hxEst)\n",
    "for i in time:\n",
    "    ac.update(dt)\n",
    "    r = radar.noisy_reading(ac.pos)\n",
    "    z = np.array(r, dtype=float)\n",
    "    z=z.reshape(2,1)\n",
    "    sigma=generate_sigmapoints(xEst, PEst, U)\n",
    "    xEst, PEst = ukf_estimation(xEst, PEst, z, wm, wc,U)\n",
    "    hxEst = np.hstack((hxEst, xEst))\n",
    "    #print(xEst)\n",
    "\n",
    "time=np.arange(0, 363+dt, dt)\n",
    "plt.figure(1)\n",
    "plt.scatter(time,hxEst[0,:],color='black',s=10,label=\"nonlinear-Estimation\")\n",
    "plt.title('performance of UKF-estimation(test with a nonlinear function)',fontsize='large',fontweight='bold') \n",
    "plt.xlabel('time(sec)')\n",
    "plt.ylabel('x-position(m)')\n",
    "\n",
    "plt.figure(2)\n",
    "plt.scatter(time,hxEst[1,:],color='black',s=10,label=\"nonlinear-Estimation\")\n",
    "plt.xlabel('time(sec)')\n",
    "plt.ylabel('velocity(m/s)')\n",
    "\n",
    "plt.figure(3)\n",
    "plt.scatter(time,hxEst[2,:],color='black',s=10,label=\"nonlinear-Estimation\")\n",
    "plt.xlabel('time(sec)')\n",
    "plt.ylabel('altitude(m)')\n"
   ]
  },
  {
   "cell_type": "code",
   "execution_count": null,
   "metadata": {},
   "outputs": [],
   "source": []
  }
 ],
 "metadata": {
  "kernelspec": {
   "display_name": "Python 3",
   "language": "python",
   "name": "python3"
  },
  "language_info": {
   "codemirror_mode": {
    "name": "ipython",
    "version": 3
   },
   "file_extension": ".py",
   "mimetype": "text/x-python",
   "name": "python",
   "nbconvert_exporter": "python",
   "pygments_lexer": "ipython3",
   "version": "3.8.3"
  }
 },
 "nbformat": 4,
 "nbformat_minor": 4
}
