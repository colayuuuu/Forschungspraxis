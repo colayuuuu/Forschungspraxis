{
 "cells": [
  {
   "cell_type": "markdown",
   "id": "354a1a03",
   "metadata": {},
   "source": [
    "# Unscented Kalman Filter "
   ]
  },
  {
   "cell_type": "markdown",
   "id": "74fa43ba",
   "metadata": {},
   "source": [
    "The Kalman filter predicts the current state based on the previous state，weighting the predicted state quantity with the measured quantity of the current moment. Only the the weighted result is considered to be the actual current state quantity which can be used to the next iteration. \n",
    "The kalman filter is specifically for linear system, and more pratically we can use unscented kalman filter to obtain the more accurate value of the state. The unscented kalman filter also contains the 'prediction' and 'update' process, but with the additional step of generating sigma points. The basic idea is to approximate the random distribution of a non-linear model by sampling from a known distribution."
   ]
  },
  {
   "cell_type": "code",
   "execution_count": 1,
   "id": "7330753c",
   "metadata": {},
   "outputs": [],
   "source": [
    "from IPython.display import Latex"
   ]
  },
  {
   "cell_type": "code",
   "execution_count": 2,
   "id": "99f8295a",
   "metadata": {},
   "outputs": [],
   "source": [
    "import numpy as np\n",
    "import scipy\n",
    "from numpy.random import randn\n",
    "import numpy as np\n",
    "from scipy.linalg import sqrtm\n",
    "import math\n",
    "import matplotlib.pyplot as plt   "
   ]
  },
  {
   "cell_type": "markdown",
   "id": "5661dbd3",
   "metadata": {},
   "source": [
    "Now we use a simple example to show the performance of the unscented kalman filter. It is no need to ust unsented kalman filter in this example because it is a linear example. But it is easy to read. "
   ]
  },
  {
   "cell_type": "code",
   "execution_count": 3,
   "id": "6c268e88",
   "metadata": {},
   "outputs": [],
   "source": [
    "# f(x)motion model\n",
    "\n",
    "def motion_model(x,dt):\n",
    "    \"\"\" \n",
    "    with constant velocity\n",
    "    \"\"\"\n",
    "    F = np.array([[1, dt, 0,  0],\n",
    "                  [0,  1, 0,  0],\n",
    "                  [0,  0, 1, dt],\n",
    "                  [0,  0, 0,  1]])\n",
    "    return F @ x  \n",
    "\n",
    "# h(x) observation model\n",
    "\n",
    "\n",
    "def measurement(xTrue):\n",
    "    #make a reference curve\n",
    "    dt=1\n",
    "    xTrue = motion_model(xTrue,dt)\n",
    "    Add_Noise = np.diag([0.3, 0.3]) ** 2 \n",
    "    z= observation_model(xTrue) + Add_Noise\n",
    "    return xTrue, z  \n",
    "\n",
    "\n",
    "def observation_model(x):\n",
    "    ''' \n",
    "    the measurements are [x_pos, y_pos]\n",
    "    '''\n",
    "    H = np.array([\n",
    "        [1, 0, 0, 0],\n",
    "        [0, 0, 1, 0]\n",
    "    ])\n",
    "\n",
    "    z = H @ x\n",
    "\n",
    "    return z\n"
   ]
  },
  {
   "cell_type": "markdown",
   "id": "da218a46",
   "metadata": {},
   "source": [
    "Now we propagate the variable $\\textbf{x}$ through a nonlinear function $\\textbf{y}$=$g(\\textbf{x})$. Assume $\\textbf{x}$ has mean $\\mu$ and convariance $\\Sigma$. To calculate the statistic of $\\textbf{y}$, we form a matrix $\\boldsymbol{\\chi}$.\n",
    "Some parameters which we can manually set up:$\\alpha$, $\\beta$. \n",
    "When the noise is gaussian distribution,we chose $\\alpha=0.01$ and $\\beta=2$.\n",
    "$\\kappa$ influence how far the sigma points are away from the mean.\n",
    "The mean and covariance of the sigma points are computed as:\n",
    "\n",
    "$$\\begin{aligned}\n",
    "\\mu &= \\sum_{i=0}^{2n} w^m_i\\boldsymbol{\\mathcal{Y}}_i \\\\\n",
    "\\Sigma &= \\sum_{i=0}^{2n} w^c_i{(\\boldsymbol{\\mathcal{Y}}_i-\\mu)(\\boldsymbol{\\mathcal{Y}}_i-\\mu)^\\mathsf{T}}\n",
    "\\end{aligned}\n",
    "$$"
   ]
  },
  {
   "cell_type": "code",
   "execution_count": 4,
   "id": "49fddce8",
   "metadata": {},
   "outputs": [
    {
     "name": "stdout",
     "output_type": "stream",
     "text": [
      "[[-1.32333333e+02 -3.14861461e-02 -3.14861461e-02 -3.14861461e-02\n",
      "  -3.14861461e-02 -3.14861461e-02 -3.14861461e-02 -3.14861461e-02\n",
      "  -3.14861461e-02]] [[-1.29343333e+02 -3.14861461e-02 -3.14861461e-02 -3.14861461e-02\n",
      "  -3.14861461e-02 -3.14861461e-02 -3.14861461e-02 -3.14861461e-02\n",
      "  -3.14861461e-02]] [0.17320508]\n"
     ]
    }
   ],
   "source": [
    "def setup_sgmpoints(n,alpha,beta,kappa):\n",
    "    '''\n",
    "    n : dimension of state vector\n",
    "    alpha,beta,kappa : manually set up patamaters\n",
    "    wm : weight matrix for calculating mean\n",
    "    wc : weight matrix for calculating variance\n",
    "    U : a parameter for computation convenience \n",
    "    '''\n",
    "    lamb=alpha**2*(n+kappa)-n\n",
    "    wm=[lamb/(n+lamb)]\n",
    "    wc=[(lamb/(lamb+n))+(1-alpha**2+beta)]\n",
    "    for i in range(2*n):\n",
    "        wm.append(1/(2*(n*lamb)))\n",
    "        wc.append(1/(2*(n*lamb)))\n",
    "    U=math.sqrt(n+lamb)\n",
    "    U=np.array([U])\n",
    "    wm=np.array([wm])\n",
    "    wc=np.array([wc])\n",
    "    return wm,wc,U\n",
    "\n",
    "\n",
    "alpha=.1\n",
    "beta=2\n",
    "kappa=-1\n",
    "n=4\n",
    "wm,wc,U=setup_sgmpoints(n,alpha,beta,kappa)\n",
    "print(wm,wc,U)"
   ]
  },
  {
   "cell_type": "code",
   "execution_count": 5,
   "id": "920a455c",
   "metadata": {},
   "outputs": [
    {
     "name": "stdout",
     "output_type": "stream",
     "text": [
      "[[ 0.          0.17320508  0.          0.          0.         -0.17320508\n",
      "   0.          0.          0.        ]\n",
      " [ 0.          0.          0.17320508  0.          0.          0.\n",
      "  -0.17320508  0.          0.        ]\n",
      " [ 0.          0.          0.          0.17320508  0.          0.\n",
      "   0.         -0.17320508  0.        ]\n",
      " [ 0.          0.          0.          0.          0.17320508  0.\n",
      "   0.          0.         -0.17320508]]\n"
     ]
    }
   ],
   "source": [
    "#generazation of sigma ponits\n",
    "# xEst/PEst is updated for each iteration\n",
    "\n",
    "def generate_sigma_points(xEst, PEst, U):\n",
    "    '''\n",
    "    xEst:mean of initial data\n",
    "    PEst:variance of initial data \n",
    "    U:U=sqrt(n+lamb)\n",
    "    \n",
    "    '''\n",
    "    sigma = xEst\n",
    "    Psqrt = scipy.linalg.sqrtm(PEst)\n",
    "    #n = len(xEst[:, 0])\n",
    "    n = len(xEst)\n",
    "    for i in range(n):\n",
    "        sigma = np.hstack((sigma, xEst + U * Psqrt[:, i:i + 1]))\n",
    "    \n",
    "    for i in range(n):\n",
    "        sigma = np.hstack((sigma, xEst - U * Psqrt[:, i:i + 1]))\n",
    "    return sigma\n",
    "\n",
    "\n",
    "xEst = np.zeros((4, 1))\n",
    "PEst=np.eye(4)\n",
    "sigma = generate_sigma_points(xEst, PEst, U)\n",
    "print(sigma)"
   ]
  },
  {
   "cell_type": "code",
   "execution_count": 25,
   "id": "19886856",
   "metadata": {},
   "outputs": [
    {
     "name": "stdout",
     "output_type": "stream",
     "text": [
      "measurement noise matrix R is: [[0.09 0.  ]\n",
      " [0.   0.09]]\n",
      "process noise matrix Q is: [[-0.04138707 -0.03105066  0.          0.        ]\n",
      " [ 0.03375027  0.01478474  0.          0.        ]\n",
      " [ 0.          0.          0.01440105 -0.02184554]\n",
      " [ 0.          0.         -0.01974958 -0.00145818]]\n"
     ]
    }
   ],
   "source": [
    "#initial state \n",
    "xEst_int = np.array([0,0,0,0])\n",
    "xEst=np.reshape(xEst_int,[4,1])\n",
    "\n",
    "#set up the parameters of sigma points\n",
    "n=4\n",
    "alpha=.1\n",
    "beta=2\n",
    "kappa=-1\n",
    "\n",
    "sigmas = setup_sgmpoints(n,alpha,beta,kappa)\n",
    "# Observation x,y position covariance\n",
    "R = np.diag([0.3, 0.3]) ** 2  \n",
    "print('measurement noise matrix R is:',R)\n",
    "\n",
    "# process noise matrix\n",
    "\n",
    "Q=np.zeros(shape=(4,4))\n",
    "Q[0:2, 0:2] = np.random.normal(0, 0.02, size=(2, 2))\n",
    "Q[2:4, 2:4] = np.random.normal(0, 0.02, size=(2, 2))\n",
    "print('process noise matrix Q is:',Q)\n",
    "\n",
    "def predict_sigma_motion(sigma):\n",
    "    \"\"\"\n",
    "        Sigma Points prediction with motion model\n",
    "    \"\"\"\n",
    "    for i in range(sigma.shape[1]):\n",
    "        sigma[:, i:i + 1] = motion_model(sigma[:, i:i + 1],dt)\n",
    "\n",
    "    return sigma\n",
    "\n",
    "def predict_sigma_observation(sigma):\n",
    "    \"\"\"\n",
    "        Sigma Points prediction with observation model\n",
    "    \"\"\"\n",
    "    for i in range(sigma.shape[1]):\n",
    "        sigma[0:2, i] = observation_model(sigma[:, i])\n",
    "\n",
    "    sigma = sigma[0:2, :]\n",
    "\n",
    "    return sigma\n",
    "\n",
    "\n",
    "\n",
    "def calc_sigma_covariance(x, sigma, wc, Pi):\n",
    "    d = sigma - x[0:sigma.shape[0]]\n",
    "    P = Pi\n",
    "    for i in range(sigma.shape[1]):\n",
    "        P = P + wc[0, i] * d[:, i:i + 1] @ d[:, i:i + 1].T\n",
    "    return P\n",
    "\n",
    "\n",
    "def calc_pxz(sigma, x, z_sigma, zb, wc):\n",
    "    '''\n",
    "    \n",
    "    '''\n",
    "    nSigma = sigma.shape[1]\n",
    "    dx = sigma - x\n",
    "    dz = z_sigma - zb[0:2]\n",
    "    P = np.zeros((dx.shape[0], dz.shape[0]))\n",
    "\n",
    "    for i in range(nSigma):\n",
    "        P = P + wc[0, i] * dx[:, i:i + 1] @ dz[:, i:i + 1].T\n",
    "\n",
    "    return P\n",
    "\n"
   ]
  },
  {
   "cell_type": "code",
   "execution_count": 26,
   "id": "de222f08",
   "metadata": {},
   "outputs": [],
   "source": [
    "def ukf_estimation(xEst, PEst, z, wm, wc, gamma):\n",
    "    '''\n",
    "    z: observation with noise \n",
    "    wm, wc, gamma: constant parameters\n",
    "    '''\n",
    "    #  Predict process\n",
    "    # generate sigma points\n",
    "    \n",
    "    sigma = generate_sigma_points(xEst, PEst, gamma)\n",
    "    \n",
    "    #prediction of mean of input \n",
    "    \n",
    "    #xPred = (wm @ sigma.T).T\n",
    "    xPred = (wm @ sigma.T).T\n",
    "    \n",
    "    # estimate of covariance \n",
    "    PPred = calc_sigma_covariance(xPred, sigma, wc, Q)\n",
    "\n",
    "    #  Update \n",
    "    #  generate new sigma points after prediction \n",
    "    \n",
    "    sigma = generate_sigma_points(xPred, PPred, gamma)\n",
    "    \n",
    "    # predict sigma points with observation model\n",
    "    \n",
    "    z_sigma = predict_sigma_observation(sigma)\n",
    "    \n",
    "    # mean  \n",
    "    zPred = (wm @ z_sigma.T).T\n",
    "    #  Pz_matrix  \n",
    "    st = calc_sigma_covariance(zPred, z_sigma, wc, R)\n",
    "     \n",
    "    Pxz = calc_pxz(sigma, xPred, z_sigma, zPred, wc)\n",
    "    # kalman gain：  11:\n",
    "    K = Pxz @ np.linalg.inv(st)\n",
    "    y = z - zPred\n",
    "    # update the mean value：  \n",
    "    xEst = xPred + K @ y\n",
    "    # update the covariance：\n",
    "    PEst = PPred - K @ st @ K.T\n",
    "\n",
    "    return xEst, PEst"
   ]
  },
  {
   "cell_type": "code",
   "execution_count": 12,
   "id": "d10e101f",
   "metadata": {},
   "outputs": [
    {
     "name": "stderr",
     "output_type": "stream",
     "text": [
      "/Users/apple/opt/anaconda3/lib/python3.9/site-packages/matplotlib/cbook/__init__.py:1298: ComplexWarning: Casting complex values to real discards the imaginary part\n",
      "  return np.asarray(x, float)\n"
     ]
    },
    {
     "ename": "ValueError",
     "evalue": "matmul: Input operand 1 has a mismatch in its core dimension 0, with gufunc signature (n?,k),(k,m?)->(n?,m?) (size 18 is different from 9)",
     "output_type": "error",
     "traceback": [
      "\u001b[0;31m---------------------------------------------------------------------------\u001b[0m",
      "\u001b[0;31mValueError\u001b[0m                                Traceback (most recent call last)",
      "Input \u001b[0;32mIn [12]\u001b[0m, in \u001b[0;36m<cell line: 36>\u001b[0;34m()\u001b[0m\n\u001b[1;32m     34\u001b[0m         plt\u001b[38;5;241m.\u001b[39mplot(xEst[\u001b[38;5;241m0\u001b[39m,:],xEst[\u001b[38;5;241m2\u001b[39m,:]) \n\u001b[1;32m     36\u001b[0m \u001b[38;5;28;01mif\u001b[39;00m \u001b[38;5;18m__name__\u001b[39m \u001b[38;5;241m==\u001b[39m \u001b[38;5;124m'\u001b[39m\u001b[38;5;124m__main__\u001b[39m\u001b[38;5;124m'\u001b[39m:\n\u001b[0;32m---> 37\u001b[0m     \u001b[43mmain\u001b[49m\u001b[43m(\u001b[49m\u001b[43m)\u001b[49m\n",
      "Input \u001b[0;32mIn [12]\u001b[0m, in \u001b[0;36mmain\u001b[0;34m()\u001b[0m\n\u001b[1;32m     24\u001b[0m time \u001b[38;5;241m+\u001b[39m\u001b[38;5;241m=\u001b[39m dt\n\u001b[1;32m     25\u001b[0m xTrue, z \u001b[38;5;241m=\u001b[39m measurement(xTrue)\n\u001b[0;32m---> 26\u001b[0m xEst, PEst \u001b[38;5;241m=\u001b[39m \u001b[43mukf_estimation\u001b[49m\u001b[43m(\u001b[49m\u001b[43mxEst\u001b[49m\u001b[43m,\u001b[49m\u001b[43m \u001b[49m\u001b[43mPEst\u001b[49m\u001b[43m,\u001b[49m\u001b[43m \u001b[49m\u001b[43mz\u001b[49m\u001b[43m,\u001b[49m\u001b[43m \u001b[49m\u001b[43mwm\u001b[49m\u001b[43m,\u001b[49m\u001b[43m \u001b[49m\u001b[43mwc\u001b[49m\u001b[43m,\u001b[49m\u001b[43m \u001b[49m\u001b[43mgamma\u001b[49m\u001b[43m)\u001b[49m\n\u001b[1;32m     27\u001b[0m hxEst \u001b[38;5;241m=\u001b[39m np\u001b[38;5;241m.\u001b[39mhstack((hxEst, xEst))\n\u001b[1;32m     28\u001b[0m hxTrue \u001b[38;5;241m=\u001b[39m np\u001b[38;5;241m.\u001b[39mhstack((hxTrue, xTrue))\n",
      "Input \u001b[0;32mIn [7]\u001b[0m, in \u001b[0;36mukf_estimation\u001b[0;34m(xEst, PEst, z, wm, wc, gamma)\u001b[0m\n\u001b[1;32m      9\u001b[0m sigma \u001b[38;5;241m=\u001b[39m generate_sigma_points(xEst, PEst, gamma)\n\u001b[1;32m     11\u001b[0m \u001b[38;5;66;03m#prediction of mean of input \u001b[39;00m\n\u001b[1;32m     12\u001b[0m \n\u001b[1;32m     13\u001b[0m \u001b[38;5;66;03m#xPred = (wm @ sigma.T).T\u001b[39;00m\n\u001b[0;32m---> 14\u001b[0m xPred \u001b[38;5;241m=\u001b[39m (\u001b[43mwm\u001b[49m\u001b[43m \u001b[49m\u001b[38;5;241;43m@\u001b[39;49m\u001b[43m \u001b[49m\u001b[43msigma\u001b[49m\u001b[38;5;241;43m.\u001b[39;49m\u001b[43mT\u001b[49m)\u001b[38;5;241m.\u001b[39mT\n\u001b[1;32m     16\u001b[0m \u001b[38;5;66;03m# estimate of covariance \u001b[39;00m\n\u001b[1;32m     17\u001b[0m PPred \u001b[38;5;241m=\u001b[39m calc_sigma_covariance(xPred, sigma, wc, Q)\n",
      "\u001b[0;31mValueError\u001b[0m: matmul: Input operand 1 has a mismatch in its core dimension 0, with gufunc signature (n?,k),(k,m?)->(n?,m?) (size 18 is different from 9)"
     ]
    },
    {
     "data": {
      "image/png": "[encoded data removed]",
      "text/plain": [
       "<Figure size 432x288 with 1 Axes>"
      ]
     },
     "metadata": {
      "needs_background": "light"
     },
     "output_type": "display_data"
    }
   ],
   "source": [
    "def main():\n",
    "    \n",
    "    time = 0.0\n",
    "    dt=1\n",
    "    xEst = np.zeros((4, 1)) #assumption of the true value as a reference \n",
    "    time_point=100\n",
    "    xTrue= np.zeros((4, 1))\n",
    "    #z = observation_model(x_ref) + Add_noise @ np.random.randn(2, 1)\n",
    "    \n",
    "    n = 4  # dimension of State Vector [x x_dot y y_dot]'\n",
    "   \n",
    "    PEst = np.eye(n) # initial of the covariance matrix\n",
    "    \n",
    "    wm, wc, gamma = setup_sgmpoints(n,alpha,beta,kappa)\n",
    "    \n",
    "    hxEst = xEst\n",
    "    hxTrue = xTrue\n",
    "    hz = np.zeros((2, 1))\n",
    "    xTrue = np.zeros((4, 1))\n",
    "    \n",
    "     \n",
    "    while time_point >= time:\n",
    "        dt=1\n",
    "        time += dt\n",
    "        xTrue, z = measurement(xTrue)\n",
    "        xEst, PEst = ukf_estimation(xEst, PEst, z, wm, wc, gamma)\n",
    "        hxEst = np.hstack((hxEst, xEst))\n",
    "        hxTrue = np.hstack((hxTrue, xTrue))\n",
    "        hz = np.hstack((hz, z))\n",
    "        \n",
    "        #plt.cla()\n",
    "        #plt.plot(np.array(hxTrue[0, :]).flatten(),\n",
    "                    # np.array(hxTrue[1, :]).flatten(), \"-b\")\n",
    "        plt.plot(xEst[0,:],xEst[2,:]) \n",
    "        \n",
    "if __name__ == '__main__':\n",
    "    main()\n"
   ]
  },
  {
   "cell_type": "code",
   "execution_count": null,
   "id": "a1edc64a",
   "metadata": {},
   "outputs": [],
   "source": []
  }
 ],
 "metadata": {
  "kernelspec": {
   "display_name": "Python 3 (ipykernel)",
   "language": "python",
   "name": "python3"
  },
  "language_info": {
   "codemirror_mode": {
    "name": "ipython",
    "version": 3
   },
   "file_extension": ".py",
   "mimetype": "text/x-python",
   "name": "python",
   "nbconvert_exporter": "python",
   "pygments_lexer": "ipython3",
   "version": "3.9.12"
  }
 },
 "nbformat": 4,
 "nbformat_minor": 5
}
